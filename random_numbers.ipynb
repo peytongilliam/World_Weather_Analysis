{
 "cells": [
  {
   "cell_type": "code",
   "execution_count": 1,
   "id": "6decb5d1",
   "metadata": {},
   "outputs": [],
   "source": [
    "# Import the random module.\n",
    "import random"
   ]
  },
  {
   "cell_type": "code",
   "execution_count": 2,
   "id": "74d75318",
   "metadata": {},
   "outputs": [
    {
     "data": {
      "text/plain": [
       "87"
      ]
     },
     "execution_count": 2,
     "metadata": {},
     "output_type": "execute_result"
    }
   ],
   "source": [
    "random.randint(-90, 90)"
   ]
  },
  {
   "cell_type": "code",
   "execution_count": 3,
   "id": "662b1369",
   "metadata": {},
   "outputs": [
    {
     "data": {
      "text/plain": [
       "0.3999854171740844"
      ]
     },
     "execution_count": 3,
     "metadata": {},
     "output_type": "execute_result"
    }
   ],
   "source": [
    "random.random()"
   ]
  },
  {
   "cell_type": "code",
   "execution_count": 4,
   "id": "92623452",
   "metadata": {},
   "outputs": [],
   "source": [
    "x = 1\n",
    "latitudes = []\n",
    "while x < 11:\n",
    "    random_lat = random.randint(-90, 89) + random.random()\n",
    "    latitudes.append(random_lat)\n",
    "    x += 1"
   ]
  },
  {
   "cell_type": "code",
   "execution_count": 5,
   "id": "df3ac587",
   "metadata": {},
   "outputs": [
    {
     "data": {
      "text/plain": [
       "[37.54471467267446,\n",
       " -70.70421015590837,\n",
       " 83.73479523571132,\n",
       " 71.51352950214283,\n",
       " 61.28042506485,\n",
       " 74.70648960236879,\n",
       " -84.10896576179242,\n",
       " -48.36387870948141,\n",
       " -42.90460387719665,\n",
       " -88.73151106981548]"
      ]
     },
     "execution_count": 5,
     "metadata": {},
     "output_type": "execute_result"
    }
   ],
   "source": [
    "latitudes"
   ]
  },
  {
   "cell_type": "code",
   "execution_count": 6,
   "id": "7623f720",
   "metadata": {},
   "outputs": [
    {
     "data": {
      "text/plain": [
       "42"
      ]
     },
     "execution_count": 6,
     "metadata": {},
     "output_type": "execute_result"
    }
   ],
   "source": [
    "random.randrange(-90, 90, step=1)"
   ]
  },
  {
   "cell_type": "code",
   "execution_count": 7,
   "id": "9e55cd90",
   "metadata": {},
   "outputs": [
    {
     "data": {
      "text/plain": [
       "-21"
      ]
     },
     "execution_count": 7,
     "metadata": {},
     "output_type": "execute_result"
    }
   ],
   "source": [
    "random.randrange(-90, 90, step=3)"
   ]
  },
  {
   "cell_type": "code",
   "execution_count": 8,
   "id": "c9994a4e",
   "metadata": {},
   "outputs": [
    {
     "data": {
      "text/plain": [
       "5.667289828674512"
      ]
     },
     "execution_count": 8,
     "metadata": {},
     "output_type": "execute_result"
    }
   ],
   "source": [
    "random.uniform(-90, 90)"
   ]
  },
  {
   "cell_type": "code",
   "execution_count": 9,
   "id": "eeb4788c",
   "metadata": {},
   "outputs": [],
   "source": [
    "# Import the NumPy module.\n",
    "import numpy as np"
   ]
  },
  {
   "cell_type": "code",
   "execution_count": 10,
   "id": "7ca3faad",
   "metadata": {},
   "outputs": [
    {
     "data": {
      "text/plain": [
       "59.06513954620053"
      ]
     },
     "execution_count": 10,
     "metadata": {},
     "output_type": "execute_result"
    }
   ],
   "source": [
    "np.random.uniform(-90.000, 90.000)"
   ]
  },
  {
   "cell_type": "code",
   "execution_count": 11,
   "id": "ec2207ae",
   "metadata": {},
   "outputs": [
    {
     "data": {
      "text/plain": [
       "array([-2.04816500e+01,  2.96055787e+01,  3.62185663e+01,  2.29853080e+00,\n",
       "       -6.31908320e+01, -2.44721041e+01, -6.45591569e-01,  6.86830158e+01,\n",
       "       -4.26558711e+00, -8.06256695e+01, -1.78838886e+01, -4.61777004e+01,\n",
       "       -3.30353781e+01, -5.92035844e+01,  5.52631190e+01, -4.57989112e+01,\n",
       "        1.09314680e+01,  7.86099761e-02,  8.08490588e+01,  7.36579150e+01,\n",
       "        8.87634999e+01, -3.82076566e+01, -5.41257333e+01, -5.36405019e+01,\n",
       "       -6.74737080e+01, -4.69861524e+01, -2.42196029e+01, -7.33167216e+01,\n",
       "       -1.61410894e+01,  8.56619982e+01,  4.76519061e+00,  5.76950267e+01,\n",
       "       -6.64517704e+01, -1.62603056e+01,  2.02917811e+01, -3.80402153e+01,\n",
       "       -6.12157580e+01,  6.24750475e+01, -8.59170063e-01, -8.41176825e+01,\n",
       "        3.19108426e+01, -3.13124884e+01, -8.08375136e+01, -8.57100129e+01,\n",
       "        5.27294065e+01, -7.41704064e+01, -5.85480216e+01, -1.65830467e+01,\n",
       "        2.14718204e+01,  7.96696635e+01])"
      ]
     },
     "execution_count": 11,
     "metadata": {},
     "output_type": "execute_result"
    }
   ],
   "source": [
    "np.random.uniform(-90.000, 90.000, size=50)"
   ]
  },
  {
   "cell_type": "code",
   "execution_count": 12,
   "id": "754ff038",
   "metadata": {},
   "outputs": [],
   "source": [
    "# Import timeit.\n",
    "import timeit"
   ]
  },
  {
   "cell_type": "code",
   "execution_count": 13,
   "id": "0a91f1db",
   "metadata": {},
   "outputs": [
    {
     "name": "stdout",
     "output_type": "stream",
     "text": [
      "15.2 µs ± 563 ns per loop (mean ± std. dev. of 7 runs, 100000 loops each)\n"
     ]
    }
   ],
   "source": [
    "%timeit np.random.uniform(-90.000, 90.000, size=1500)"
   ]
  },
  {
   "cell_type": "code",
   "execution_count": 14,
   "id": "3e66f6cc",
   "metadata": {},
   "outputs": [
    {
     "name": "stdout",
     "output_type": "stream",
     "text": [
      "1.96 ms ± 129 µs per loop (mean ± std. dev. of 7 runs, 100 loops each)\n"
     ]
    }
   ],
   "source": [
    "def latitudes(size):\n",
    "    latitudes = []\n",
    "    x = 0\n",
    "    while x < (size):\n",
    "        random_lat = random.randint(-90, 90) + random.random()\n",
    "        latitudes.append(random_lat)\n",
    "        x += 1\n",
    "    return latitudes\n",
    "# Call the function with 1500.\n",
    "%timeit latitudes(1500)"
   ]
  },
  {
   "cell_type": "code",
   "execution_count": null,
   "id": "c8656f5a",
   "metadata": {},
   "outputs": [],
   "source": []
  }
 ],
 "metadata": {
  "kernelspec": {
   "display_name": "PythonData",
   "language": "python",
   "name": "pythondata"
  },
  "language_info": {
   "codemirror_mode": {
    "name": "ipython",
    "version": 3
   },
   "file_extension": ".py",
   "mimetype": "text/x-python",
   "name": "python",
   "nbconvert_exporter": "python",
   "pygments_lexer": "ipython3",
   "version": "3.7.11"
  }
 },
 "nbformat": 4,
 "nbformat_minor": 5
}
